{
 "cells": [
  {
   "cell_type": "code",
   "execution_count": 1,
   "id": "8f7a7f10",
   "metadata": {},
   "outputs": [],
   "source": [
    "import duckdb\n",
    "import pandas as pd\n",
    "\n",
    "%load_ext sql"
   ]
  },
  {
   "cell_type": "code",
   "execution_count": 2,
   "id": "930bf3b1",
   "metadata": {},
   "outputs": [],
   "source": [
    "# %sql duckdb:///:default:\n",
    "%sql duckdb:///:memory:\n",
    "# %sql duckdb:///path/to/file.db"
   ]
  },
  {
   "cell_type": "code",
   "execution_count": 3,
   "id": "c863526d",
   "metadata": {},
   "outputs": [
    {
     "name": "stdout",
     "output_type": "stream",
     "text": [
      "displaylimit: Value None will be treated as 0 (no limit)\n"
     ]
    }
   ],
   "source": [
    "# %config SqlMagic.autopandas = True\n",
    "%config SqlMagic.feedback = False\n",
    "%config SqlMagic.displaycon = False\n",
    "%config SqlMagic.displaylimit = None"
   ]
  },
  {
   "cell_type": "code",
   "execution_count": 4,
   "id": "9c754f3d",
   "metadata": {},
   "outputs": [
    {
     "data": {
      "text/html": [
       "<table>\n",
       "    <thead>\n",
       "        <tr>\n",
       "            <th>Count</th>\n",
       "        </tr>\n",
       "    </thead>\n",
       "    <tbody>\n",
       "        <tr>\n",
       "            <td>2</td>\n",
       "        </tr>\n",
       "    </tbody>\n",
       "</table>"
      ],
      "text/plain": [
       "+-------+\n",
       "| Count |\n",
       "+-------+\n",
       "|   2   |\n",
       "+-------+"
      ]
     },
     "execution_count": 4,
     "metadata": {},
     "output_type": "execute_result"
    }
   ],
   "source": [
    "%%sql\n",
    "CREATE SCHEMA dannys_diner;\n",
    "\n",
    "SET search_path = dannys_diner;\n",
    "\n",
    "CREATE TABLE sales (\n",
    "  \"customer_id\" VARCHAR(1),\n",
    "  \"order_date\" DATE,\n",
    "  \"product_id\" INTEGER\n",
    ");\n",
    "\n",
    "INSERT INTO sales\n",
    "  (\"customer_id\", \"order_date\", \"product_id\")\n",
    "VALUES\n",
    "  ('A', '2021-01-01', '1'),\n",
    "  ('A', '2021-01-01', '2'),\n",
    "  ('A', '2021-01-07', '2'),\n",
    "  ('A', '2021-01-10', '3'),\n",
    "  ('A', '2021-01-11', '3'),\n",
    "  ('A', '2021-01-11', '3'),\n",
    "  ('B', '2021-01-01', '2'),\n",
    "  ('B', '2021-01-02', '2'),\n",
    "  ('B', '2021-01-04', '1'),\n",
    "  ('B', '2021-01-11', '1'),\n",
    "  ('B', '2021-01-16', '3'),\n",
    "  ('B', '2021-02-01', '3'),\n",
    "  ('C', '2021-01-01', '3'),\n",
    "  ('C', '2021-01-01', '3'),\n",
    "  ('C', '2021-01-07', '3');\n",
    "\n",
    "    \n",
    "CREATE TABLE menu (\n",
    "  \"product_id\" INTEGER,\n",
    "  \"product_name\" VARCHAR(5),\n",
    "  \"price\" INTEGER\n",
    ");\n",
    "\n",
    "INSERT INTO menu\n",
    "  (\"product_id\", \"product_name\", \"price\")\n",
    "VALUES\n",
    "  ('1', 'sushi', '10'),\n",
    "  ('2', 'curry', '15'),\n",
    "  ('3', 'ramen', '12');\n",
    "    \n",
    "CREATE TABLE members (\n",
    "  \"customer_id\" VARCHAR(1),\n",
    "  \"join_date\" DATE\n",
    ");\n",
    "\n",
    "INSERT INTO members\n",
    "  (\"customer_id\", \"join_date\")\n",
    "VALUES\n",
    "  ('A', '2021-01-07'),\n",
    "  ('B', '2021-01-09');"
   ]
  },
  {
   "cell_type": "markdown",
   "id": "cee99e41",
   "metadata": {},
   "source": [
    "### Table Information \n",
    "#### There are 3 tables in the dataset : \n",
    "#### 1.  Sales table contains customer_id, order_date (without timestamp) and product_id\n",
    "#### 2.  Menu table contains product_id, product_name and price \n",
    "#### 3.  Members table contains customer_id and join_date(without timestamp)\n",
    "\n",
    "#### Displayed below each individual table: "
   ]
  },
  {
   "cell_type": "code",
   "execution_count": 115,
   "id": "fe474d0c",
   "metadata": {
    "scrolled": true
   },
   "outputs": [
    {
     "data": {
      "text/html": [
       "<table>\n",
       "    <thead>\n",
       "        <tr>\n",
       "            <th>customer_id</th>\n",
       "            <th>order_date</th>\n",
       "            <th>product_id</th>\n",
       "        </tr>\n",
       "    </thead>\n",
       "    <tbody>\n",
       "        <tr>\n",
       "            <td>A</td>\n",
       "            <td>2021-01-01</td>\n",
       "            <td>1</td>\n",
       "        </tr>\n",
       "        <tr>\n",
       "            <td>A</td>\n",
       "            <td>2021-01-01</td>\n",
       "            <td>2</td>\n",
       "        </tr>\n",
       "        <tr>\n",
       "            <td>A</td>\n",
       "            <td>2021-01-07</td>\n",
       "            <td>2</td>\n",
       "        </tr>\n",
       "        <tr>\n",
       "            <td>A</td>\n",
       "            <td>2021-01-10</td>\n",
       "            <td>3</td>\n",
       "        </tr>\n",
       "        <tr>\n",
       "            <td>A</td>\n",
       "            <td>2021-01-11</td>\n",
       "            <td>3</td>\n",
       "        </tr>\n",
       "        <tr>\n",
       "            <td>A</td>\n",
       "            <td>2021-01-11</td>\n",
       "            <td>3</td>\n",
       "        </tr>\n",
       "        <tr>\n",
       "            <td>B</td>\n",
       "            <td>2021-01-01</td>\n",
       "            <td>2</td>\n",
       "        </tr>\n",
       "        <tr>\n",
       "            <td>B</td>\n",
       "            <td>2021-01-02</td>\n",
       "            <td>2</td>\n",
       "        </tr>\n",
       "        <tr>\n",
       "            <td>B</td>\n",
       "            <td>2021-01-04</td>\n",
       "            <td>1</td>\n",
       "        </tr>\n",
       "        <tr>\n",
       "            <td>B</td>\n",
       "            <td>2021-01-11</td>\n",
       "            <td>1</td>\n",
       "        </tr>\n",
       "        <tr>\n",
       "            <td>B</td>\n",
       "            <td>2021-01-16</td>\n",
       "            <td>3</td>\n",
       "        </tr>\n",
       "        <tr>\n",
       "            <td>B</td>\n",
       "            <td>2021-02-01</td>\n",
       "            <td>3</td>\n",
       "        </tr>\n",
       "        <tr>\n",
       "            <td>C</td>\n",
       "            <td>2021-01-01</td>\n",
       "            <td>3</td>\n",
       "        </tr>\n",
       "        <tr>\n",
       "            <td>C</td>\n",
       "            <td>2021-01-01</td>\n",
       "            <td>3</td>\n",
       "        </tr>\n",
       "        <tr>\n",
       "            <td>C</td>\n",
       "            <td>2021-01-07</td>\n",
       "            <td>3</td>\n",
       "        </tr>\n",
       "    </tbody>\n",
       "</table>"
      ],
      "text/plain": [
       "+-------------+------------+------------+\n",
       "| customer_id | order_date | product_id |\n",
       "+-------------+------------+------------+\n",
       "|      A      | 2021-01-01 |     1      |\n",
       "|      A      | 2021-01-01 |     2      |\n",
       "|      A      | 2021-01-07 |     2      |\n",
       "|      A      | 2021-01-10 |     3      |\n",
       "|      A      | 2021-01-11 |     3      |\n",
       "|      A      | 2021-01-11 |     3      |\n",
       "|      B      | 2021-01-01 |     2      |\n",
       "|      B      | 2021-01-02 |     2      |\n",
       "|      B      | 2021-01-04 |     1      |\n",
       "|      B      | 2021-01-11 |     1      |\n",
       "|      B      | 2021-01-16 |     3      |\n",
       "|      B      | 2021-02-01 |     3      |\n",
       "|      C      | 2021-01-01 |     3      |\n",
       "|      C      | 2021-01-01 |     3      |\n",
       "|      C      | 2021-01-07 |     3      |\n",
       "+-------------+------------+------------+"
      ]
     },
     "execution_count": 115,
     "metadata": {},
     "output_type": "execute_result"
    }
   ],
   "source": [
    "%%sql\n",
    "\n",
    "    SELECT *\n",
    "      FROM dannys_diner.sales;"
   ]
  },
  {
   "cell_type": "code",
   "execution_count": 116,
   "id": "656f9fe1",
   "metadata": {
    "scrolled": true
   },
   "outputs": [
    {
     "data": {
      "text/html": [
       "<table>\n",
       "    <thead>\n",
       "        <tr>\n",
       "            <th>product_id</th>\n",
       "            <th>product_name</th>\n",
       "            <th>price</th>\n",
       "        </tr>\n",
       "    </thead>\n",
       "    <tbody>\n",
       "        <tr>\n",
       "            <td>1</td>\n",
       "            <td>sushi</td>\n",
       "            <td>10</td>\n",
       "        </tr>\n",
       "        <tr>\n",
       "            <td>2</td>\n",
       "            <td>curry</td>\n",
       "            <td>15</td>\n",
       "        </tr>\n",
       "        <tr>\n",
       "            <td>3</td>\n",
       "            <td>ramen</td>\n",
       "            <td>12</td>\n",
       "        </tr>\n",
       "    </tbody>\n",
       "</table>"
      ],
      "text/plain": [
       "+------------+--------------+-------+\n",
       "| product_id | product_name | price |\n",
       "+------------+--------------+-------+\n",
       "|     1      |    sushi     |   10  |\n",
       "|     2      |    curry     |   15  |\n",
       "|     3      |    ramen     |   12  |\n",
       "+------------+--------------+-------+"
      ]
     },
     "execution_count": 116,
     "metadata": {},
     "output_type": "execute_result"
    }
   ],
   "source": [
    "%%sql\n",
    "\n",
    "    SELECT *\n",
    "      FROM dannys_diner.menu;"
   ]
  },
  {
   "cell_type": "code",
   "execution_count": 117,
   "id": "88ce6cba",
   "metadata": {},
   "outputs": [
    {
     "data": {
      "text/html": [
       "<table>\n",
       "    <thead>\n",
       "        <tr>\n",
       "            <th>customer_id</th>\n",
       "            <th>join_date</th>\n",
       "        </tr>\n",
       "    </thead>\n",
       "    <tbody>\n",
       "        <tr>\n",
       "            <td>A</td>\n",
       "            <td>2021-01-07</td>\n",
       "        </tr>\n",
       "        <tr>\n",
       "            <td>B</td>\n",
       "            <td>2021-01-09</td>\n",
       "        </tr>\n",
       "    </tbody>\n",
       "</table>"
      ],
      "text/plain": [
       "+-------------+------------+\n",
       "| customer_id | join_date  |\n",
       "+-------------+------------+\n",
       "|      A      | 2021-01-07 |\n",
       "|      B      | 2021-01-09 |\n",
       "+-------------+------------+"
      ]
     },
     "execution_count": 117,
     "metadata": {},
     "output_type": "execute_result"
    }
   ],
   "source": [
    "%%sql\n",
    "\n",
    "    SELECT *\n",
    "      FROM dannys_diner.members;"
   ]
  },
  {
   "cell_type": "markdown",
   "id": "3c9ab9b6",
   "metadata": {},
   "source": [
    "### Table Join Keys \n",
    "#### Between Sales Table and Menu Table, the join key is product_id\n",
    "#### Between Sales Table and Members Table, the join key is customer_id\n",
    "#### Between Menu Table and Members Table, the join key is customer_id"
   ]
  },
  {
   "cell_type": "markdown",
   "id": "cac58d64",
   "metadata": {},
   "source": [
    "### Case Study Questions"
   ]
  },
  {
   "cell_type": "markdown",
   "id": "1615981a",
   "metadata": {},
   "source": [
    "#### 1. What is the total amount each customer spent at the restaurant?\n",
    "#### Solution :"
   ]
  },
  {
   "cell_type": "code",
   "execution_count": 30,
   "id": "6476db3b",
   "metadata": {},
   "outputs": [
    {
     "data": {
      "text/html": [
       "<table>\n",
       "    <thead>\n",
       "        <tr>\n",
       "            <th>customer_id</th>\n",
       "            <th>total_spent</th>\n",
       "        </tr>\n",
       "    </thead>\n",
       "    <tbody>\n",
       "        <tr>\n",
       "            <td>A</td>\n",
       "            <td>76</td>\n",
       "        </tr>\n",
       "        <tr>\n",
       "            <td>B</td>\n",
       "            <td>74</td>\n",
       "        </tr>\n",
       "        <tr>\n",
       "            <td>C</td>\n",
       "            <td>36</td>\n",
       "        </tr>\n",
       "    </tbody>\n",
       "</table>"
      ],
      "text/plain": [
       "+-------------+-------------+\n",
       "| customer_id | total_spent |\n",
       "+-------------+-------------+\n",
       "|      A      |      76     |\n",
       "|      B      |      74     |\n",
       "|      C      |      36     |\n",
       "+-------------+-------------+"
      ]
     },
     "execution_count": 30,
     "metadata": {},
     "output_type": "execute_result"
    }
   ],
   "source": [
    "%%sql\n",
    "\n",
    "    SELECT ds.customer_id,\n",
    "           SUM(dm.price) AS total_spent\n",
    "      FROM dannys_diner.menu AS dm\n",
    "      JOIN dannys_diner.sales AS ds\n",
    "        ON dm.product_id=ds.product_id\n",
    "     GROUP BY ds.customer_id\n",
    "     ORDER BY ds.customer_id;"
   ]
  },
  {
   "cell_type": "markdown",
   "id": "b8dea7b8",
   "metadata": {},
   "source": [
    "#### 2. How many days has each customer visited the restaurant?\n",
    "#### Solution :"
   ]
  },
  {
   "cell_type": "code",
   "execution_count": 113,
   "id": "f4c74a19",
   "metadata": {},
   "outputs": [
    {
     "data": {
      "text/html": [
       "<table>\n",
       "    <thead>\n",
       "        <tr>\n",
       "            <th>customer_id</th>\n",
       "            <th>total_visit</th>\n",
       "        </tr>\n",
       "    </thead>\n",
       "    <tbody>\n",
       "        <tr>\n",
       "            <td>A</td>\n",
       "            <td>6</td>\n",
       "        </tr>\n",
       "        <tr>\n",
       "            <td>B</td>\n",
       "            <td>6</td>\n",
       "        </tr>\n",
       "        <tr>\n",
       "            <td>C</td>\n",
       "            <td>3</td>\n",
       "        </tr>\n",
       "    </tbody>\n",
       "</table>"
      ],
      "text/plain": [
       "+-------------+-------------+\n",
       "| customer_id | total_visit |\n",
       "+-------------+-------------+\n",
       "|      A      |      6      |\n",
       "|      B      |      6      |\n",
       "|      C      |      3      |\n",
       "+-------------+-------------+"
      ]
     },
     "execution_count": 113,
     "metadata": {},
     "output_type": "execute_result"
    }
   ],
   "source": [
    "%%sql\n",
    "\n",
    "    SELECT customer_id,\n",
    "           COUNT(order_date) AS total_visit\n",
    "      FROM dannys_diner.sales \n",
    "     GROUP BY customer_id\n",
    "     ORDER BY customer_id;\n",
    "    "
   ]
  },
  {
   "cell_type": "code",
   "execution_count": 114,
   "id": "057c3f4c",
   "metadata": {},
   "outputs": [
    {
     "data": {
      "text/html": [
       "<table>\n",
       "    <thead>\n",
       "        <tr>\n",
       "            <th>customer_id</th>\n",
       "            <th>visit_days</th>\n",
       "        </tr>\n",
       "    </thead>\n",
       "    <tbody>\n",
       "        <tr>\n",
       "            <td>A</td>\n",
       "            <td>4</td>\n",
       "        </tr>\n",
       "        <tr>\n",
       "            <td>B</td>\n",
       "            <td>6</td>\n",
       "        </tr>\n",
       "        <tr>\n",
       "            <td>C</td>\n",
       "            <td>2</td>\n",
       "        </tr>\n",
       "    </tbody>\n",
       "</table>"
      ],
      "text/plain": [
       "+-------------+------------+\n",
       "| customer_id | visit_days |\n",
       "+-------------+------------+\n",
       "|      A      |     4      |\n",
       "|      B      |     6      |\n",
       "|      C      |     2      |\n",
       "+-------------+------------+"
      ]
     },
     "execution_count": 114,
     "metadata": {},
     "output_type": "execute_result"
    }
   ],
   "source": [
    "%%sql\n",
    "\n",
    "    SELECT customer_id,\n",
    "           COUNT(distinct order_date) as visit_days\n",
    "      FROM dannys_diner.sales\n",
    "     GROUP BY customer_id\n",
    "     ORDER BY customer_id;\n",
    "    "
   ]
  },
  {
   "cell_type": "markdown",
   "id": "78d8a9be",
   "metadata": {},
   "source": [
    "#### 3. What was the first item from the menu purchased by each customer?\n",
    "#### Solution :"
   ]
  },
  {
   "cell_type": "code",
   "execution_count": 9,
   "id": "a9ed3f97",
   "metadata": {},
   "outputs": [
    {
     "data": {
      "text/html": [
       "<table>\n",
       "    <thead>\n",
       "        <tr>\n",
       "            <th>customer_id</th>\n",
       "            <th>product_id</th>\n",
       "            <th>product_name</th>\n",
       "            <th>order_date</th>\n",
       "        </tr>\n",
       "    </thead>\n",
       "    <tbody>\n",
       "        <tr>\n",
       "            <td>A</td>\n",
       "            <td>1</td>\n",
       "            <td>sushi</td>\n",
       "            <td>2021-01-01</td>\n",
       "        </tr>\n",
       "        <tr>\n",
       "            <td>B</td>\n",
       "            <td>2</td>\n",
       "            <td>curry</td>\n",
       "            <td>2021-01-01</td>\n",
       "        </tr>\n",
       "        <tr>\n",
       "            <td>C</td>\n",
       "            <td>3</td>\n",
       "            <td>ramen</td>\n",
       "            <td>2021-01-01</td>\n",
       "        </tr>\n",
       "    </tbody>\n",
       "</table>"
      ],
      "text/plain": [
       "+-------------+------------+--------------+------------+\n",
       "| customer_id | product_id | product_name | order_date |\n",
       "+-------------+------------+--------------+------------+\n",
       "|      A      |     1      |    sushi     | 2021-01-01 |\n",
       "|      B      |     2      |    curry     | 2021-01-01 |\n",
       "|      C      |     3      |    ramen     | 2021-01-01 |\n",
       "+-------------+------------+--------------+------------+"
      ]
     },
     "execution_count": 9,
     "metadata": {},
     "output_type": "execute_result"
    }
   ],
   "source": [
    "%%sql\n",
    "\n",
    "WITH first_order AS (\n",
    "    \n",
    "                    SELECT *\n",
    "                      FROM (SELECT  customer_id,\n",
    "                                    product_id,\n",
    "                                    order_date,\n",
    "                                    ROW_NUMBER()OVER(PARTITION BY customer_id ORDER BY order_date) AS rank\n",
    "                              FROM  dannys_diner.sales\n",
    "                             ORDER  BY customer_id,order_date)t\n",
    "                      WHERE rank=1)\n",
    " \n",
    "     SELECT customer_id,\n",
    "            fo.product_id,\n",
    "            dm.product_name,\n",
    "            order_date\n",
    "       FROM first_order AS fo\n",
    "       JOIN dannys_diner.menu AS dm \n",
    "         ON fo.product_id=dm.product_id;\n"
   ]
  },
  {
   "cell_type": "markdown",
   "id": "b719a8bd",
   "metadata": {},
   "source": [
    "#### 4. What is the most purchased item on the menu and how many times was it purchased by all customers?\n",
    "#### Solution :"
   ]
  },
  {
   "cell_type": "code",
   "execution_count": 10,
   "id": "20d8c0f1",
   "metadata": {},
   "outputs": [
    {
     "data": {
      "text/html": [
       "<table>\n",
       "    <thead>\n",
       "        <tr>\n",
       "            <th>product_id</th>\n",
       "            <th>total_order</th>\n",
       "            <th>product_name</th>\n",
       "        </tr>\n",
       "    </thead>\n",
       "    <tbody>\n",
       "        <tr>\n",
       "            <td>1</td>\n",
       "            <td>3</td>\n",
       "            <td>sushi</td>\n",
       "        </tr>\n",
       "        <tr>\n",
       "            <td>2</td>\n",
       "            <td>4</td>\n",
       "            <td>curry</td>\n",
       "        </tr>\n",
       "        <tr>\n",
       "            <td>3</td>\n",
       "            <td>8</td>\n",
       "            <td>ramen</td>\n",
       "        </tr>\n",
       "    </tbody>\n",
       "</table>"
      ],
      "text/plain": [
       "+------------+-------------+--------------+\n",
       "| product_id | total_order | product_name |\n",
       "+------------+-------------+--------------+\n",
       "|     1      |      3      |    sushi     |\n",
       "|     2      |      4      |    curry     |\n",
       "|     3      |      8      |    ramen     |\n",
       "+------------+-------------+--------------+"
      ]
     },
     "execution_count": 10,
     "metadata": {},
     "output_type": "execute_result"
    }
   ],
   "source": [
    "%%sql\n",
    "\n",
    "    SELECT ds.product_id,\n",
    "           COUNT(ds.product_id) AS total_order,\n",
    "           dm.product_name\n",
    "      FROM dannys_diner.sales AS ds\n",
    "      JOIN dannys_diner.menu AS dm\n",
    "        ON ds.product_id=dm.product_id\n",
    "     GROUP BY ds.product_id,dm.product_name;\n",
    "    "
   ]
  },
  {
   "cell_type": "markdown",
   "id": "5c62c70d",
   "metadata": {},
   "source": [
    "#### 5. Which item was the most popular for each customer?\n",
    "#### Solution :"
   ]
  },
  {
   "cell_type": "code",
   "execution_count": 66,
   "id": "edcdce00",
   "metadata": {},
   "outputs": [
    {
     "data": {
      "text/html": [
       "<table>\n",
       "    <thead>\n",
       "        <tr>\n",
       "            <th>customer_id</th>\n",
       "            <th>product_id</th>\n",
       "            <th>product_name</th>\n",
       "            <th>purchase_count</th>\n",
       "        </tr>\n",
       "    </thead>\n",
       "    <tbody>\n",
       "        <tr>\n",
       "            <td>A</td>\n",
       "            <td>3</td>\n",
       "            <td>ramen</td>\n",
       "            <td>3</td>\n",
       "        </tr>\n",
       "        <tr>\n",
       "            <td>B</td>\n",
       "            <td>2</td>\n",
       "            <td>curry</td>\n",
       "            <td>2</td>\n",
       "        </tr>\n",
       "        <tr>\n",
       "            <td>B</td>\n",
       "            <td>1</td>\n",
       "            <td>sushi</td>\n",
       "            <td>2</td>\n",
       "        </tr>\n",
       "        <tr>\n",
       "            <td>B</td>\n",
       "            <td>3</td>\n",
       "            <td>ramen</td>\n",
       "            <td>2</td>\n",
       "        </tr>\n",
       "        <tr>\n",
       "            <td>C</td>\n",
       "            <td>3</td>\n",
       "            <td>ramen</td>\n",
       "            <td>3</td>\n",
       "        </tr>\n",
       "    </tbody>\n",
       "</table>"
      ],
      "text/plain": [
       "+-------------+------------+--------------+----------------+\n",
       "| customer_id | product_id | product_name | purchase_count |\n",
       "+-------------+------------+--------------+----------------+\n",
       "|      A      |     3      |    ramen     |       3        |\n",
       "|      B      |     2      |    curry     |       2        |\n",
       "|      B      |     1      |    sushi     |       2        |\n",
       "|      B      |     3      |    ramen     |       2        |\n",
       "|      C      |     3      |    ramen     |       3        |\n",
       "+-------------+------------+--------------+----------------+"
      ]
     },
     "execution_count": 66,
     "metadata": {},
     "output_type": "execute_result"
    }
   ],
   "source": [
    "%%sql\n",
    "\n",
    "WITH base AS (\n",
    "    \n",
    "             SELECT  customer_id,\n",
    "                     product_id, \n",
    "                     count(*) as purchase_count\n",
    "               FROM  dannys_diner.sales\n",
    "              GROUP  BY customer_id, product_id\n",
    "),\n",
    "\n",
    "     maxi AS (\n",
    "         \n",
    "            SELECT  *,\n",
    "                    MAX(purchase_count) OVER (PARTITION BY customer_id) AS max_purchase\n",
    "              FROM  base\n",
    "             ORDER  BY customer_id\n",
    ")\n",
    "\n",
    "    SELECT  mi.customer_id,\n",
    "            mi.product_id,\n",
    "            m.product_name,\n",
    "            purchase_count\n",
    "      FROM  maxi mi\n",
    "      JOIN  annys_diner.menu m\n",
    "        ON  mi.product_id = m.product_id\n",
    "     WHERE  purchase_count = max_purchase;\n",
    "    "
   ]
  },
  {
   "cell_type": "markdown",
   "id": "176f5eb0",
   "metadata": {},
   "source": [
    "#### Note : For customer B, all products are bought twice (equally frequent). Thus all 3 items are the most popluar for customer B."
   ]
  },
  {
   "cell_type": "markdown",
   "id": "537242fb",
   "metadata": {},
   "source": [
    "#### 6. Which item was purchased first by the customer after they became a member?\n",
    "#### Solution :"
   ]
  },
  {
   "cell_type": "code",
   "execution_count": 79,
   "id": "fdf54960",
   "metadata": {},
   "outputs": [
    {
     "data": {
      "text/html": [
       "<table>\n",
       "    <thead>\n",
       "        <tr>\n",
       "            <th>customer_id</th>\n",
       "            <th>join_date</th>\n",
       "            <th>order_date</th>\n",
       "            <th>product_name</th>\n",
       "        </tr>\n",
       "    </thead>\n",
       "    <tbody>\n",
       "        <tr>\n",
       "            <td>A</td>\n",
       "            <td>2021-01-07</td>\n",
       "            <td>2021-01-07</td>\n",
       "            <td>curry</td>\n",
       "        </tr>\n",
       "        <tr>\n",
       "            <td>B</td>\n",
       "            <td>2021-01-09</td>\n",
       "            <td>2021-01-11</td>\n",
       "            <td>sushi</td>\n",
       "        </tr>\n",
       "    </tbody>\n",
       "</table>"
      ],
      "text/plain": [
       "+-------------+------------+------------+--------------+\n",
       "| customer_id | join_date  | order_date | product_name |\n",
       "+-------------+------------+------------+--------------+\n",
       "|      A      | 2021-01-07 | 2021-01-07 |    curry     |\n",
       "|      B      | 2021-01-09 | 2021-01-11 |    sushi     |\n",
       "+-------------+------------+------------+--------------+"
      ]
     },
     "execution_count": 79,
     "metadata": {},
     "output_type": "execute_result"
    }
   ],
   "source": [
    "%%sql\n",
    "\n",
    "WITH base AS (\n",
    "    \n",
    "            SELECT *\n",
    "              FROM dannys_diner.sales sal\n",
    "              JOIN dannys_diner.members mem\n",
    "                ON sal.customer_id = mem.customer_id\n",
    "             WHERE order_date >= join_date\n",
    "), \n",
    "\n",
    "rank AS (\n",
    "            SELECT *,\n",
    "                   ROW_NUMBER()OVER(PARTITION BY customer_id ORDER BY order_date) as purchase_rank\n",
    "              FROM base\n",
    ")\n",
    "\n",
    "    SELECT customer_id, \n",
    "           join_date,\n",
    "           order_date,\n",
    "           product_name\n",
    "      FROM rank r\n",
    "      JOIN dannys_diner.menu m\n",
    "        ON r.product_id = m.product_id\n",
    "     WHERE purchase_rank = 1;\n",
    "    "
   ]
  },
  {
   "cell_type": "markdown",
   "id": "cc219485",
   "metadata": {},
   "source": [
    "#### Note : Why is customer C not in the table? This is because just a regular customer, not a member.Therefore there is no join_date for Customer C, only order_date is available."
   ]
  },
  {
   "cell_type": "markdown",
   "id": "f053449c",
   "metadata": {},
   "source": [
    "#### 7. Which item was purchased just before the customer became a member?\n",
    "#### Solution :"
   ]
  },
  {
   "cell_type": "code",
   "execution_count": 88,
   "id": "aaa970fc",
   "metadata": {},
   "outputs": [
    {
     "data": {
      "text/html": [
       "<table>\n",
       "    <thead>\n",
       "        <tr>\n",
       "            <th>customer_id</th>\n",
       "            <th>join_date</th>\n",
       "            <th>order_date</th>\n",
       "            <th>product_id</th>\n",
       "            <th>product_name</th>\n",
       "        </tr>\n",
       "    </thead>\n",
       "    <tbody>\n",
       "        <tr>\n",
       "            <td>A</td>\n",
       "            <td>2021-01-07</td>\n",
       "            <td>2021-01-01</td>\n",
       "            <td>2</td>\n",
       "            <td>curry</td>\n",
       "        </tr>\n",
       "        <tr>\n",
       "            <td>B</td>\n",
       "            <td>2021-01-09</td>\n",
       "            <td>2021-01-04</td>\n",
       "            <td>1</td>\n",
       "            <td>sushi</td>\n",
       "        </tr>\n",
       "    </tbody>\n",
       "</table>"
      ],
      "text/plain": [
       "+-------------+------------+------------+------------+--------------+\n",
       "| customer_id | join_date  | order_date | product_id | product_name |\n",
       "+-------------+------------+------------+------------+--------------+\n",
       "|      A      | 2021-01-07 | 2021-01-01 |     2      |    curry     |\n",
       "|      B      | 2021-01-09 | 2021-01-04 |     1      |    sushi     |\n",
       "+-------------+------------+------------+------------+--------------+"
      ]
     },
     "execution_count": 88,
     "metadata": {},
     "output_type": "execute_result"
    }
   ],
   "source": [
    "%%sql\n",
    "\n",
    "WITH base AS (\n",
    "    \n",
    "            SELECT *\n",
    "              FROM dannys_diner.sales sal\n",
    "              JOIN dannys_diner.members mem\n",
    "                ON sal.customer_id = mem.customer_id\n",
    "             WHERE order_date < join_date\n",
    "),\n",
    "\n",
    "     net AS (\n",
    "         \n",
    "            SELECT *,\n",
    "                   ROW_NUMBER() OVER(PARTITION BY customer_id ORDER BY order_date) as purchase_rank,\n",
    "                   COUNT()OVER(PARTITION BY  customer_id) as max_purchase\n",
    "              FROM base\n",
    ")\n",
    "\n",
    "    SELECT customer_id,\n",
    "           join_date,\n",
    "           order_date,\n",
    "           n.product_id,\n",
    "           product_name\n",
    "      FROM net n\n",
    "      JOIN dannys_diner.menu m\n",
    "        ON n.product_id = m.product_id\n",
    "     WHERE purchase_rank = max_purchase;\n",
    "    "
   ]
  },
  {
   "cell_type": "markdown",
   "id": "fb331d43",
   "metadata": {},
   "source": [
    "#### 8. What is the total items and amount spent for each member before they became a member?\n",
    "#### Solution :"
   ]
  },
  {
   "cell_type": "code",
   "execution_count": 118,
   "id": "3c20c876",
   "metadata": {},
   "outputs": [
    {
     "data": {
      "text/html": [
       "<table>\n",
       "    <thead>\n",
       "        <tr>\n",
       "            <th>customer_id</th>\n",
       "            <th>total_items</th>\n",
       "            <th>amount_spent</th>\n",
       "        </tr>\n",
       "    </thead>\n",
       "    <tbody>\n",
       "        <tr>\n",
       "            <td>A</td>\n",
       "            <td>2</td>\n",
       "            <td>25</td>\n",
       "        </tr>\n",
       "        <tr>\n",
       "            <td>B</td>\n",
       "            <td>3</td>\n",
       "            <td>40</td>\n",
       "        </tr>\n",
       "    </tbody>\n",
       "</table>"
      ],
      "text/plain": [
       "+-------------+-------------+--------------+\n",
       "| customer_id | total_items | amount_spent |\n",
       "+-------------+-------------+--------------+\n",
       "|      A      |      2      |      25      |\n",
       "|      B      |      3      |      40      |\n",
       "+-------------+-------------+--------------+"
      ]
     },
     "execution_count": 118,
     "metadata": {},
     "output_type": "execute_result"
    }
   ],
   "source": [
    "%%sql\n",
    "\n",
    "    SELECT s.customer_id,\n",
    "           COUNT(s.product_id) AS total_items,\n",
    "           SUM(price) as amount_spent\n",
    "      FROM dannys_diner.sales s\n",
    "      JOIN dannys_diner.members m\n",
    "        ON m.customer_id = s.customer_id AND order_date < join_date\n",
    "      JOIN dannys_diner.menu men\n",
    "        ON s.product_id = men.product_id\n",
    "     GROUP BY s.customer_id\n",
    "     ORDER BY s.customer_id;\n",
    "        "
   ]
  },
  {
   "cell_type": "markdown",
   "id": "5d92b169",
   "metadata": {},
   "source": [
    "#### 9. If each 1 dollar spent equates to 10 points and sushi has a 2x points multiplier - how many points would each customer have?\n",
    "#### Solution :"
   ]
  },
  {
   "cell_type": "code",
   "execution_count": 119,
   "id": "0ad70ae4",
   "metadata": {},
   "outputs": [
    {
     "data": {
      "text/html": [
       "<table>\n",
       "    <thead>\n",
       "        <tr>\n",
       "            <th>customer_id</th>\n",
       "            <th>points</th>\n",
       "        </tr>\n",
       "    </thead>\n",
       "    <tbody>\n",
       "        <tr>\n",
       "            <td>A</td>\n",
       "            <td>860</td>\n",
       "        </tr>\n",
       "        <tr>\n",
       "            <td>B</td>\n",
       "            <td>940</td>\n",
       "        </tr>\n",
       "        <tr>\n",
       "            <td>C</td>\n",
       "            <td>360</td>\n",
       "        </tr>\n",
       "    </tbody>\n",
       "</table>"
      ],
      "text/plain": [
       "+-------------+--------+\n",
       "| customer_id | points |\n",
       "+-------------+--------+\n",
       "|      A      |  860   |\n",
       "|      B      |  940   |\n",
       "|      C      |  360   |\n",
       "+-------------+--------+"
      ]
     },
     "execution_count": 119,
     "metadata": {},
     "output_type": "execute_result"
    }
   ],
   "source": [
    "%%sql\n",
    "\n",
    "    SELECT customer_id,\n",
    "           SUM(CASE \n",
    "               WHEN product_name = 'sushi' THEN price*2*10\n",
    "               ELSE price*10 \n",
    "               END) AS points\n",
    "      FROM dannys_diner.sales s\n",
    "      JOIN dannys_diner.menu m\n",
    "        ON s.product_id = m.product_id\n",
    "     GROUP BY customer_id;\n",
    "    "
   ]
  },
  {
   "cell_type": "markdown",
   "id": "727ae49e",
   "metadata": {},
   "source": [
    "#### 10. In the first week after a customer joins the program (including their join date) they earn 2x points on all items, not just sushi - how many points do customer A and B have at the end of January?\n",
    "#### Solution :"
   ]
  },
  {
   "cell_type": "code",
   "execution_count": 111,
   "id": "ce515869",
   "metadata": {},
   "outputs": [
    {
     "data": {
      "text/html": [
       "<table>\n",
       "    <thead>\n",
       "        <tr>\n",
       "            <th>customer_id</th>\n",
       "            <th>sum(points)</th>\n",
       "        </tr>\n",
       "    </thead>\n",
       "    <tbody>\n",
       "        <tr>\n",
       "            <td>A</td>\n",
       "            <td>1370</td>\n",
       "        </tr>\n",
       "        <tr>\n",
       "            <td>B</td>\n",
       "            <td>820</td>\n",
       "        </tr>\n",
       "        <tr>\n",
       "            <td>C</td>\n",
       "            <td>360</td>\n",
       "        </tr>\n",
       "    </tbody>\n",
       "</table>"
      ],
      "text/plain": [
       "+-------------+-------------+\n",
       "| customer_id | sum(points) |\n",
       "+-------------+-------------+\n",
       "|      A      |     1370    |\n",
       "|      B      |     820     |\n",
       "|      C      |     360     |\n",
       "+-------------+-------------+"
      ]
     },
     "execution_count": 111,
     "metadata": {},
     "output_type": "execute_result"
    }
   ],
   "source": [
    "%%sql\n",
    "\n",
    "WITH base AS (\n",
    "    \n",
    "            SELECT s.customer_id,\n",
    "                   (CASE\n",
    "                    WHEN s.order_date < mem.join_date + 7 AND s.order_date >= mem.join_date\n",
    "                    THEN 'first_week'\n",
    "                    ELSE null \n",
    "                    END) as first_week,\n",
    "                   (CASE \n",
    "                    WHEN first_week IS NOT null THEN price*2*10\n",
    "                    WHEN first_week IS null and product_name = 'sushi' THEN price*2*10\n",
    "                    WHEN first_week IS null THEN price*10\n",
    "                    ELSE null \n",
    "                    END) AS points\n",
    "             FROM  dannys_diner.sales s\n",
    "             JOIN  dannys_diner.menu m\n",
    "               ON  s.product_id = m.product_id\n",
    "        LEFT JOIN  dannys_diner.members mem\n",
    "               ON  s.customer_id = mem.customer_id\n",
    "            WHERE  order_date < '2021-02-01'\n",
    ")\n",
    "\n",
    "            SELECT customer_id,\n",
    "                   SUM(points)\n",
    "              FROM base\n",
    "             GROUP BY customer_id;\n",
    "        "
   ]
  },
  {
   "cell_type": "code",
   "execution_count": 20,
   "id": "560d8247",
   "metadata": {},
   "outputs": [
    {
     "data": {
      "text/html": [
       "<table>\n",
       "    <thead>\n",
       "        <tr>\n",
       "            <th>customer_id</th>\n",
       "            <th>total_points_1</th>\n",
       "        </tr>\n",
       "    </thead>\n",
       "    <tbody>\n",
       "        <tr>\n",
       "            <td>A</td>\n",
       "            <td>780</td>\n",
       "        </tr>\n",
       "        <tr>\n",
       "            <td>B</td>\n",
       "            <td>440</td>\n",
       "        </tr>\n",
       "    </tbody>\n",
       "</table>"
      ],
      "text/plain": [
       "+-------------+----------------+\n",
       "| customer_id | total_points_1 |\n",
       "+-------------+----------------+\n",
       "|      A      |      780       |\n",
       "|      B      |      440       |\n",
       "+-------------+----------------+"
      ]
     },
     "execution_count": 20,
     "metadata": {},
     "output_type": "execute_result"
    }
   ],
   "source": [
    "%%sql \n",
    "\n",
    "WITH table_1 AS(\n",
    "     SELECT ds.customer_id,\n",
    "            dm.join_date,\n",
    "            ds.order_date,\n",
    "            ds.product_id,\n",
    "            (CASE \n",
    "             WHEN ds.product_id IN(1,2,3) THEN dme.price*20\n",
    "             ELSE 0\n",
    "             END) AS total_points_first_week\n",
    "       FROM dannys_diner.sales AS ds\n",
    "       JOIN dannys_diner.members AS dm\n",
    "         ON ds.customer_id=dm.customer_id AND ds.order_date BETWEEN dm.join_date AND dm.join_date+7\n",
    "       JOIN dannys_diner.menu AS dme\n",
    "         ON ds.product_id=dme.product_id\n",
    "      GROUP BY ds.customer_id,dm.join_date,ds.order_date,ds.product_id,dme.price\n",
    "      ORDER BY ds.customer_id)\n",
    "\n",
    "     SELECT t1.customer_id,SUM(total_points_first_week) AS total_points_1\n",
    "       FROM table_1 AS t1\n",
    "      GROUP BY t1.customer_id;\n"
   ]
  },
  {
   "cell_type": "code",
   "execution_count": null,
   "id": "399ad412",
   "metadata": {},
   "outputs": [],
   "source": []
  }
 ],
 "metadata": {
  "kernelspec": {
   "display_name": "Python 3 (ipykernel)",
   "language": "python",
   "name": "python3"
  },
  "language_info": {
   "codemirror_mode": {
    "name": "ipython",
    "version": 3
   },
   "file_extension": ".py",
   "mimetype": "text/x-python",
   "name": "python",
   "nbconvert_exporter": "python",
   "pygments_lexer": "ipython3",
   "version": "3.10.9"
  }
 },
 "nbformat": 4,
 "nbformat_minor": 5
}
